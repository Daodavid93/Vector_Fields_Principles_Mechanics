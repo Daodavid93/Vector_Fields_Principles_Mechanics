{
 "cells": [
  {
   "cell_type": "code",
   "execution_count": 8,
   "metadata": {},
   "outputs": [],
   "source": [
    "%matplotlib inline\n",
    "from daomath.daomechanics import VectorField\n",
    "from daomath.daomechanics import MaterialPoint\n",
    "import matplotlib.pyplot as plt\n",
    "from matplotlib import animation, rc\n",
    "from IPython.display import HTML\n",
    "import numpy as np"
   ]
  },
  {
   "cell_type": "markdown",
   "metadata": {},
   "source": [
    "https://physics.info\n"
   ]
  },
  {
   "cell_type": "markdown",
   "metadata": {},
   "source": [
    "https://en.wikipedia.org/wiki/Work_(physics)\n",
    "Work is the product of force and distance. In physics, a force is said to do work if, when acting, there is a movement of the point of application in the direction of the force.\n",
    "For example, when a ball is held above the ground and then dropped, the work done on the ball as it falls is equal to the weight of the ball. (<-- two spaces)\n",
    "The work of system by deff is integral of dW where  $$  dW =  \\vec{F}.d\\vec{r} = m.\\vec{a}.\\vec{r}$$\n",
    "######  \n",
    "1) $$\\vec{F}.d\\vec{r} = m.\\vec{a}.\\vec{r}=m.\\frac{d\\vec{v}} {dt}.\\vec{v}.dt=m.\\vec{v}.d\\vec{v}$$\n",
    "2) from 1 we have $$\\vec{F}.d\\vec{r}=m.\\vec{v}.d\\vec{v} \\Leftrightarrow \\int m.\\vec{F}.d\\vec{r} =\\int m.\\vec{v}.d\\vec{v}  \\Leftrightarrow \\frac{m.v^2}{2} - \\frac{m.v_0^2}{2}  =  V(\\vec{r}) - V_0(\\vec{r}) \\Leftrightarrow \\triangle T = \\triangle V $$ \n",
    "\n",
    "T is kinetic V potential energy $$E + U = H$$ H is called total energy of system also  Hamilton \n",
    "$$grad\\vec{F}=\\vec{\\triangledown}.U = \\vec{F}$$\n",
    "\n",
    "accordingly the  theorem of Green if $$ \\int_C \\vec{\\triangledown}  \\times \\vec{F}=0$$ then then the vector field is potential and satisfy  $$grad\\vec{F}=\\vec{\\triangledown}.U = \\vec{F}$$"
   ]
  },
  {
   "cell_type": "markdown",
   "metadata": {},
   "source": [
    "## The Laws of conservation\n",
    "For the first time in above example,we've saw the low of conservation .How does kinetic energy is transformed to potential energy and inverse process is the same .The most famous example is gravity on earth's surface:    \n",
    "$$m.g.y - m.g.y_o = E - E_0 \\Leftrightarrow E = H - m.g.y$$\n",
    "\n",
    "There are many kinds of transformation of energy ,maybe that is the most deeply and fundamental law in physics.\n",
    "Let's  see other kind of conversation - The Law of Momentum Conservation\n",
    "Consider a collision between two objects.-obeject 1 and object 2 \n",
    "Newton's third law says the force in moment of collision between obj1 and obj2 is equal in their magnitude and opposite in their direction\n",
    "$$ 1)\\vec{F_{12}} = - \\vec{F_{21}}$$      \n",
    "\n",
    "let's multiple  equation 1) with dt and after that we can   integrate it  $$\\vec{F_{12}} = - \\vec{F_{21}}  $$\n",
    "    $$\\vec{F_{12}}.dt = - \\vec{F_{21}}.dt \\Leftrightarrow  m.\\vec{a_{12}}.dt  + m.\\vec{a_{21}}.dt \\Leftrightarrow \\int m.\\vec{a_{1}}.dt +\\int m.\\vec{a_{2}}.dt = \\int m.d\\vec{v_{1}} + m.d\\vec{v_{2}} \\Leftrightarrow  \\vec{p_{1}} + \\vec{p_{2}} =\\vec{p}$$\n",
    "The conclusion from above operation is after collision the total momentum of system remains the sameThe conclusion from above operation is  after collision the total momentum of system   ramains the same \n",
    "\n",
    "Let  see what 's happens with energy conversation:\n",
    "After the multiplacation of eaqution 1) on  both sides with $$\\vec{dr}$$  and integration we achieve the  result\n",
    "$$\\vec{F_{12}}.d\\vec{r} =-\\vec{F_{21}}.d\\vec{r} =\\int m.\\vec{v_1}.d\\vec{v_1} +\\int m.\\vec{v_2}.d\\vec{v_2} = m.v_1^2 + m.v_2^2 =T_{1} + T_{2} = H $$\n",
    "The total energy between two particle remains the same.This result can be summarised for many particles"
   ]
  },
  {
   "cell_type": "code",
   "execution_count": null,
   "metadata": {},
   "outputs": [],
   "source": []
  },
  {
   "cell_type": "code",
   "execution_count": null,
   "metadata": {},
   "outputs": [],
   "source": []
  }
 ],
 "metadata": {
  "kernelspec": {
   "display_name": "Python 3",
   "language": "python",
   "name": "python3"
  },
  "language_info": {
   "codemirror_mode": {
    "name": "ipython",
    "version": 3
   },
   "file_extension": ".py",
   "mimetype": "text/x-python",
   "name": "python",
   "nbconvert_exporter": "python",
   "pygments_lexer": "ipython3",
   "version": "3.7.3"
  }
 },
 "nbformat": 4,
 "nbformat_minor": 2
}
